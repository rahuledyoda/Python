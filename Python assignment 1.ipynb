{
 "cells": [
  {
   "cell_type": "code",
   "execution_count": 32,
   "id": "31fef127",
   "metadata": {},
   "outputs": [],
   "source": [
    "#Q1)Write a Python program to get the Fibonacci series between 0 to 50\n",
    "\n",
    "\n",
    "\n",
    "#Note : The Fibonacci Sequence is the series of numbers :\n",
    "\n",
    "#0, 1, 1, 2, 3, 5, 8, 13, 21, ....\n",
    "\n",
    "#Every next number is found by adding up the two numbers before it.\n",
    "\n",
    "#Expected Output : 1 1 2 3 5 8 13 21 34"
   ]
  },
  {
   "cell_type": "code",
   "execution_count": 1,
   "id": "5b5c07a5",
   "metadata": {},
   "outputs": [
    {
     "name": "stdout",
     "output_type": "stream",
     "text": [
      "1\n",
      "1\n",
      "2\n",
      "3\n",
      "5\n",
      "8\n",
      "13\n",
      "21\n",
      "34\n"
     ]
    }
   ],
   "source": [
    "#ans1\n",
    "x,y=0,1\n",
    "\n",
    "while y<50:\n",
    "    print(y)\n",
    "    x,y = y,x+y"
   ]
  },
  {
   "cell_type": "code",
   "execution_count": null,
   "id": "932aeb2c",
   "metadata": {},
   "outputs": [],
   "source": [
    "#Q2)Write a Python program that accepts a word from the user and reverse it.\n",
    "\n",
    "\n",
    "\n",
    "Sample Test Case\n",
    "\n",
    "\n",
    "\n",
    "Input : Edyoda\n",
    "\n",
    "output: adoydE\n",
    "\n"
   ]
  },
  {
   "cell_type": "code",
   "execution_count": 2,
   "id": "32be5a16",
   "metadata": {},
   "outputs": [
    {
     "name": "stdout",
     "output_type": "stream",
     "text": [
      "Edyoda\n"
     ]
    },
    {
     "data": {
      "text/plain": [
       "'adoydE'"
      ]
     },
     "execution_count": 2,
     "metadata": {},
     "output_type": "execute_result"
    }
   ],
   "source": [
    "#Ans2)\n",
    "Reverse_Input = input(str())\n",
    "Reverse_Input[::-1]"
   ]
  },
  {
   "cell_type": "code",
   "execution_count": null,
   "id": "fcd33dd3",
   "metadata": {},
   "outputs": [],
   "source": [
    "#Q3)Write a Python program to count the number of even and odd numbers from a series of numbers.\n",
    "\n",
    "\n",
    "\n",
    "Sample numbers : numbers = (1, 2, 3, 4, 5, 6, 7, 8, 9) \n",
    "\n",
    "Expected Output :\n",
    "\n",
    "Number of even numbers : 5\n",
    "\n",
    "Number of odd numbers : 4"
   ]
  },
  {
   "cell_type": "code",
   "execution_count": 8,
   "id": "b199531d",
   "metadata": {},
   "outputs": [
    {
     "name": "stdout",
     "output_type": "stream",
     "text": [
      "Number of even numbers : 5\n",
      "Number of odd numbers : 4\n"
     ]
    }
   ],
   "source": [
    "Odd_Even = (1,2,3,4,5,6,7,8,9)\n",
    "Even_Count = 0\n",
    "Odd_Count = 0\n",
    "for i in Odd_Even:\n",
    "    if i%2:\n",
    "        Even_Count += 1\n",
    "    else:\n",
    "        Odd_Count += 1\n",
    "print(\"Number of even numbers :\",Even_Count)\n",
    "print(\"Number of odd numbers :\",Odd_Count)\n"
   ]
  },
  {
   "cell_type": "code",
   "execution_count": null,
   "id": "459c2212",
   "metadata": {},
   "outputs": [],
   "source": []
  }
 ],
 "metadata": {
  "kernelspec": {
   "display_name": "Python 3",
   "language": "python",
   "name": "python3"
  },
  "language_info": {
   "codemirror_mode": {
    "name": "ipython",
    "version": 3
   },
   "file_extension": ".py",
   "mimetype": "text/x-python",
   "name": "python",
   "nbconvert_exporter": "python",
   "pygments_lexer": "ipython3",
   "version": "3.8.8"
  }
 },
 "nbformat": 4,
 "nbformat_minor": 5
}
